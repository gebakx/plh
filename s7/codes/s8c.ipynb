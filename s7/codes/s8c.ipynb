{
  "nbformat": 4,
  "nbformat_minor": 0,
  "metadata": {
    "colab": {
      "name": "s8c.ipynb",
      "provenance": []
    },
    "kernelspec": {
      "display_name": "Python 3",
      "name": "python3"
    },
    "language_info": {
      "name": "python"
    }
  },
  "cells": [
    {
      "cell_type": "markdown",
      "metadata": {
        "id": "akirzRx8lDra"
      },
      "source": [
        "## Probabilistic Viterbi parser"
      ]
    },
    {
      "cell_type": "code",
      "metadata": {
        "id": "g3tie9lTlBTN"
      },
      "source": [
        "import nltk\n",
        "from nltk import  PCFG, ViterbiParser\n",
        "\n",
        "grammar = PCFG.fromstring('''\n",
        "  NP  -> NNS [0.5] | JJ NNS [0.3] | NP CC NP [0.2]\n",
        "  NNS -> \"cats\" [0.1] | \"dogs\" [0.2] | \"mice\" [0.3] | NNS CC NNS [0.4]\n",
        "  JJ  -> \"big\" [0.4] | \"small\" [0.6]\n",
        "  CC  -> \"and\" [0.9] | \"or\" [0.1]\n",
        "  ''')\n",
        "\n",
        "sent = ['small', 'cats', 'and', 'mice']\n",
        "\n",
        "parser = ViterbiParser(grammar)\n",
        "parse = parser.parse(sent)"
      ],
      "execution_count": null,
      "outputs": []
    },
    {
      "cell_type": "code",
      "metadata": {
        "colab": {
          "base_uri": "https://localhost:8080/"
        },
        "id": "KC3CKLjilN8P",
        "outputId": "20d8157d-c568-4d2d-bd0f-0405d3d49708"
      },
      "source": [
        "tree = next(parse)\n",
        "print(tree)"
      ],
      "execution_count": null,
      "outputs": [
        {
          "output_type": "stream",
          "text": [
            "(NP (JJ small) (NNS (NNS cats) (CC and) (NNS mice))) (p=0.001944)\n"
          ],
          "name": "stdout"
        }
      ]
    },
    {
      "cell_type": "markdown",
      "metadata": {
        "id": "TTDCr1VzlSAr"
      },
      "source": [
        "### Trace"
      ]
    },
    {
      "cell_type": "code",
      "metadata": {
        "id": "GTHhl6XZlToh"
      },
      "source": [
        "parser = ViterbiParser(grammar)\n",
        "parser.trace(3)\n",
        "parse = parser.parse(sent)"
      ],
      "execution_count": null,
      "outputs": []
    },
    {
      "cell_type": "code",
      "metadata": {
        "colab": {
          "base_uri": "https://localhost:8080/"
        },
        "id": "rGjpzMIjling",
        "outputId": "02cdf56b-2595-490f-a03d-814ffb0e1a45"
      },
      "source": [
        "print(next(parse))"
      ],
      "execution_count": null,
      "outputs": [
        {
          "output_type": "stream",
          "text": [
            "Inserting tokens into the most likely constituents table...\n",
            "   Insert: |=...| small\n",
            "   Insert: |.=..| cats\n",
            "   Insert: |..=.| and\n",
            "   Insert: |...=| mice\n",
            "Finding the most likely constituents spanning 1 text elements...\n",
            "   Insert: |=...| JJ -> 'small' [0.6]               0.6000000000 \n",
            "   Insert: |.=..| NNS -> 'cats' [0.1]               0.1000000000 \n",
            "   Insert: |.=..| NP -> NNS [0.5]                   0.0500000000 \n",
            "   Insert: |..=.| CC -> 'and' [0.9]                 0.9000000000 \n",
            "   Insert: |...=| NNS -> 'mice' [0.3]               0.3000000000 \n",
            "   Insert: |...=| NP -> NNS [0.5]                   0.1500000000 \n",
            "Finding the most likely constituents spanning 2 text elements...\n",
            "   Insert: |==..| NP -> JJ NNS [0.3]                0.0180000000 \n",
            "Finding the most likely constituents spanning 3 text elements...\n",
            "   Insert: |.===| NP -> NP CC NP [0.2]              0.0013500000 \n",
            "   Insert: |.===| NNS -> NNS CC NNS [0.4]           0.0108000000 \n",
            "   Insert: |.===| NP -> NNS [0.5]                   0.0054000000 \n",
            "  Discard: |.===| NP -> NP CC NP [0.2]              0.0013500000 \n",
            "  Discard: |.===| NP -> NP CC NP [0.2]              0.0013500000 \n",
            "Finding the most likely constituents spanning 4 text elements...\n",
            "   Insert: |====| NP -> JJ NNS [0.3]                0.0019440000 \n",
            "  Discard: |====| NP -> NP CC NP [0.2]              0.0004860000 \n",
            "  Discard: |====| NP -> NP CC NP [0.2]              0.0004860000 \n",
            "(NP (JJ small) (NNS (NNS cats) (CC and) (NNS mice))) (p=0.001944)\n"
          ],
          "name": "stdout"
        }
      ]
    },
    {
      "cell_type": "markdown",
      "metadata": {
        "id": "TOnB0PWrlr1f"
      },
      "source": [
        "## Learn a treebank grammar"
      ]
    },
    {
      "cell_type": "code",
      "metadata": {
        "colab": {
          "base_uri": "https://localhost:8080/"
        },
        "id": "K5zJhbiXl2PM",
        "outputId": "b9dab0c1-639d-4973-d208-80c35f60831e"
      },
      "source": [
        "import nltk\n",
        "nltk.download('treebank')"
      ],
      "execution_count": null,
      "outputs": [
        {
          "output_type": "stream",
          "text": [
            "[nltk_data] Downloading package treebank to /root/nltk_data...\n",
            "[nltk_data]   Package treebank is already up-to-date!\n"
          ],
          "name": "stdout"
        },
        {
          "output_type": "execute_result",
          "data": {
            "text/plain": [
              "True"
            ]
          },
          "metadata": {
            "tags": []
          },
          "execution_count": 5
        }
      ]
    },
    {
      "cell_type": "code",
      "metadata": {
        "colab": {
          "base_uri": "https://localhost:8080/"
        },
        "id": "HRkOhfM7ltms",
        "outputId": "1fdc140b-1ea8-4219-f544-74d22325c505"
      },
      "source": [
        "from nltk.corpus import treebank\n",
        "productions = []\n",
        "S = nltk.Nonterminal('S')\n",
        "for f in treebank.fileids():\n",
        "    for tree in treebank.parsed_sents(f):\n",
        "        productions += tree.productions()\n",
        "grammar = nltk.induce_pcfg(S, productions)\n",
        "grammar.productions()[10:15]"
      ],
      "execution_count": null,
      "outputs": [
        {
          "output_type": "execute_result",
          "data": {
            "text/plain": [
              "[JJ -> 'old' [0.00411382],\n",
              " VP -> MD VP [0.0523088],\n",
              " MD -> 'will' [0.30205],\n",
              " VP -> VB NP PP-CLR NP-TMP [0.000137836],\n",
              " VB -> 'join' [0.00156617]]"
            ]
          },
          "metadata": {
            "tags": []
          },
          "execution_count": 6
        }
      ]
    },
    {
      "cell_type": "markdown",
      "metadata": {
        "id": "txIYOlknl_o-"
      },
      "source": [
        "## Apply the learnt PCFG to Viterbi parser"
      ]
    },
    {
      "cell_type": "code",
      "metadata": {
        "colab": {
          "background_save": true
        },
        "id": "HTCijYxWmBSU",
        "outputId": "330f43bd-63e3-4938-ee04-b2658496f350"
      },
      "source": [
        "sent = ['it', 'is', 'a', 'small', 'group', 'of', 'workers', 'and', 'researchers']\n",
        "parser = ViterbiParser(grammar)\n",
        "parse = parser.parse(sent)\n",
        "tree = next(parse)\n",
        "print(tree)"
      ],
      "execution_count": null,
      "outputs": [
        {
          "output_type": "stream",
          "text": [
            "(S\n",
            "  (NP-SBJ (PRP it))\n",
            "  (VP\n",
            "    (VBZ is)\n",
            "    (NP-PRD\n",
            "      (NP (DT a) (JJ small) (NN group))\n",
            "      (PP\n",
            "        (IN of)\n",
            "        (NP (NNS workers) (CC and) (NNS researchers)))))) (p=2.64379e-21)\n"
          ],
          "name": "stdout"
        }
      ]
    }
  ]
}