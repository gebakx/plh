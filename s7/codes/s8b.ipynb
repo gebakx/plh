{
  "nbformat": 4,
  "nbformat_minor": 0,
  "metadata": {
    "colab": {
      "name": "s8b.ipynb",
      "provenance": []
    },
    "kernelspec": {
      "name": "python3",
      "display_name": "Python 3"
    },
    "language_info": {
      "name": "python"
    }
  },
  "cells": [
    {
      "cell_type": "markdown",
      "metadata": {
        "id": "lB5AOQRAkjvg"
      },
      "source": [
        "## Probabilistic charts"
      ]
    },
    {
      "cell_type": "code",
      "metadata": {
        "id": "Goxd7GbZkdwH"
      },
      "source": [
        "import nltk\n",
        "from nltk.parse.pchart import PCFG, InsideChartParser\n",
        "\n",
        "grammar = PCFG.fromstring('''\n",
        "  NP  -> NNS [0.5] | JJ NNS [0.3] | NP CC NP [0.2]\n",
        "  NNS -> \"cats\" [0.1] | \"dogs\" [0.2] | \"mice\" [0.3] | NNS CC NNS [0.4]\n",
        "  JJ  -> \"big\" [0.4] | \"small\" [0.6]\n",
        "  CC  -> \"and\" [0.9] | \"or\" [0.1]\n",
        "  ''')\n",
        "\n",
        "sent = ['small', 'cats', 'and', 'mice']\n",
        "\n",
        "parser = InsideChartParser(grammar)\n",
        "parse = parser.parse(sent)"
      ],
      "execution_count": null,
      "outputs": []
    },
    {
      "cell_type": "code",
      "metadata": {
        "colab": {
          "base_uri": "https://localhost:8080/"
        },
        "id": "O4j6yITEkysC",
        "outputId": "8a52b294-fb62-4109-a00c-597fa73fbf05"
      },
      "source": [
        "ts = []\n",
        "for t in parse:\n",
        "    ts.append(t)\n",
        "print('number of trees:', len(ts))"
      ],
      "execution_count": null,
      "outputs": [
        {
          "output_type": "stream",
          "text": [
            "number of trees: 2\n"
          ],
          "name": "stdout"
        }
      ]
    },
    {
      "cell_type": "code",
      "metadata": {
        "id": "KDdeVMWJk6BZ",
        "colab": {
          "base_uri": "https://localhost:8080/"
        },
        "outputId": "90ff31dd-33fb-4543-b797-ccb7e87cb1a7"
      },
      "source": [
        "for t in ts:\n",
        "  print(t)"
      ],
      "execution_count": null,
      "outputs": [
        {
          "output_type": "stream",
          "text": [
            "(NP (JJ small) (NNS (NNS cats) (CC and) (NNS mice))) (p=0.001944)\n",
            "(NP (NP (JJ small) (NNS cats)) (CC and) (NP (NNS mice))) (p=0.000486)\n"
          ],
          "name": "stdout"
        }
      ]
    }
  ]
}