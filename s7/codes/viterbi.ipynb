{
 "cells": [
  {
   "cell_type": "markdown",
   "metadata": {},
   "source": [
    "## Probabilistic Viterbi parser"
   ]
  },
  {
   "cell_type": "code",
   "execution_count": 1,
   "metadata": {},
   "outputs": [],
   "source": [
    "import nltk\n",
    "from nltk import  PCFG, ViterbiParser\n",
    "\n",
    "grammar = PCFG.fromstring('''\n",
    "  NP  -> NNS [0.5] | JJ NNS [0.3] | NP CC NP [0.2]\n",
    "  NNS -> \"cats\" [0.1] | \"dogs\" [0.2] | \"mice\" [0.3] | NNS CC NNS [0.4]\n",
    "  JJ  -> \"big\" [0.4] | \"small\" [0.6]\n",
    "  CC  -> \"and\" [0.9] | \"or\" [0.1]\n",
    "  ''')\n",
    "\n",
    "sent = ['small', 'cats', 'and', 'mice']\n",
    "\n",
    "parser = ViterbiParser(grammar)\n",
    "parse = parser.parse(sent)"
   ]
  },
  {
   "cell_type": "code",
   "execution_count": 2,
   "metadata": {},
   "outputs": [
    {
     "name": "stdout",
     "output_type": "stream",
     "text": [
      "(NP (JJ small) (NNS (NNS cats) (CC and) (NNS mice))) (p=0.001944)\n"
     ]
    },
    {
     "data": {
      "image/png": "[encoded data removed]",
      "text/plain": [
       "ProbabilisticTree('NP', [ProbabilisticTree('JJ', ['small']) (p=0.6), ProbabilisticTree('NNS', [ProbabilisticTree('NNS', ['cats']) (p=0.1), ProbabilisticTree('CC', ['and']) (p=0.9), ProbabilisticTree('NNS', ['mice']) (p=0.3)]) (p=0.010800000000000002)]) (p=0.0019440000000000004)"
      ]
     },
     "execution_count": 2,
     "metadata": {},
     "output_type": "execute_result"
    }
   ],
   "source": [
    "tree = next(parse)\n",
    "print(tree)\n",
    "tree"
   ]
  },
  {
   "cell_type": "markdown",
   "metadata": {},
   "source": [
    "## Trace"
   ]
  },
  {
   "cell_type": "code",
   "execution_count": 3,
   "metadata": {},
   "outputs": [
    {
     "name": "stdout",
     "output_type": "stream",
     "text": [
      "Inserting tokens into the most likely constituents table...\n",
      "   Insert: |=...| small\n",
      "   Insert: |.=..| cats\n",
      "   Insert: |..=.| and\n",
      "   Insert: |...=| mice\n",
      "Finding the most likely constituents spanning 1 text elements...\n",
      "   Insert: |=...| JJ -> 'small' [0.6]               0.6000000000 \n",
      "   Insert: |.=..| NNS -> 'cats' [0.1]               0.1000000000 \n",
      "   Insert: |.=..| NP -> NNS [0.5]                   0.0500000000 \n",
      "   Insert: |..=.| CC -> 'and' [0.9]                 0.9000000000 \n",
      "   Insert: |...=| NNS -> 'mice' [0.3]               0.3000000000 \n",
      "   Insert: |...=| NP -> NNS [0.5]                   0.1500000000 \n",
      "Finding the most likely constituents spanning 2 text elements...\n",
      "   Insert: |==..| NP -> JJ NNS [0.3]                0.0180000000 \n",
      "Finding the most likely constituents spanning 3 text elements...\n",
      "   Insert: |.===| NP -> NP CC NP [0.2]              0.0013500000 \n",
      "   Insert: |.===| NNS -> NNS CC NNS [0.4]           0.0108000000 \n",
      "   Insert: |.===| NP -> NNS [0.5]                   0.0054000000 \n",
      "  Discard: |.===| NP -> NP CC NP [0.2]              0.0013500000 \n",
      "  Discard: |.===| NP -> NP CC NP [0.2]              0.0013500000 \n",
      "Finding the most likely constituents spanning 4 text elements...\n",
      "   Insert: |====| NP -> JJ NNS [0.3]                0.0019440000 \n",
      "  Discard: |====| NP -> NP CC NP [0.2]              0.0004860000 \n",
      "  Discard: |====| NP -> NP CC NP [0.2]              0.0004860000 \n"
     ]
    },
    {
     "data": {
      "image/png": "[encoded data removed]",
      "text/plain": [
       "ProbabilisticTree('NP', [ProbabilisticTree('JJ', ['small']) (p=0.6), ProbabilisticTree('NNS', [ProbabilisticTree('NNS', ['cats']) (p=0.1), ProbabilisticTree('CC', ['and']) (p=0.9), ProbabilisticTree('NNS', ['mice']) (p=0.3)]) (p=0.010800000000000002)]) (p=0.0019440000000000004)"
      ]
     },
     "execution_count": 3,
     "metadata": {},
     "output_type": "execute_result"
    }
   ],
   "source": [
    "parser = ViterbiParser(grammar)\n",
    "parser.trace(3)\n",
    "parse = parser.parse(sent)\n",
    "next(parse)"
   ]
  },
  {
   "cell_type": "markdown",
   "metadata": {},
   "source": [
    "## Learn a treebank grammar"
   ]
  },
  {
   "cell_type": "code",
   "execution_count": 4,
   "metadata": {},
   "outputs": [
    {
     "data": {
      "text/plain": [
       "[NN -> 'centennial' [7.59532e-05],\n",
       " NNP -> 'Ian' [0.00010627],\n",
       " JJ -> 'impending' [0.000171409],\n",
       " WHNP-26 -> WDT [1.0],\n",
       " VBN -> 'opened' [0.00187441]]"
      ]
     },
     "execution_count": 4,
     "metadata": {},
     "output_type": "execute_result"
    }
   ],
   "source": [
    "import nltk\n",
    "from nltk.corpus import treebank\n",
    "productions = []\n",
    "S = nltk.Nonterminal('S')\n",
    "for f in treebank.fileids():\n",
    "    for tree in treebank.parsed_sents(f):\n",
    "        productions += tree.productions()\n",
    "grammar = nltk.induce_pcfg(S, productions)\n",
    "grammar.productions()[10:15]"
   ]
  },
  {
   "cell_type": "markdown",
   "metadata": {},
   "source": [
    "## Apply the learnt PCFG to Viterbi parser"
   ]
  },
  {
   "cell_type": "code",
   "execution_count": 5,
   "metadata": {},
   "outputs": [
    {
     "name": "stdout",
     "output_type": "stream",
     "text": [
      "(S\n",
      "  (NP-SBJ (PRP it))\n",
      "  (VP\n",
      "    (VBZ is)\n",
      "    (NP-PRD\n",
      "      (NP (DT a) (JJ small) (NN group))\n",
      "      (PP\n",
      "        (IN of)\n",
      "        (NP (NNS workers) (CC and) (NNS researchers)))))) (p=2.64379e-21)\n"
     ]
    },
    {
     "data": {
      "image/png": "[encoded data removed]",
      "text/plain": [
       "ProbabilisticTree('S', [ProbabilisticTree('NP-SBJ', [ProbabilisticTree('PRP', ['it']) (p=0.2773892773892774)]) (p=0.040581158351375574), ProbabilisticTree('VP', [ProbabilisticTree('VBZ', ['is']) (p=0.31576470588235295), ProbabilisticTree('NP-PRD', [ProbabilisticTree('NP', [ProbabilisticTree('DT', ['a']) (p=0.22951622780159217), ProbabilisticTree('JJ', ['small']) (p=0.0075419952005485085), ProbabilisticTree('NN', ['group']) (p=0.0032659881512988)]) (p=1.763429323958664e-07), ProbabilisticTree('PP', [ProbabilisticTree('IN', ['of']) (p=0.23526427919245207), ProbabilisticTree('NP', [ProbabilisticTree('NNS', ['workers']) (p=0.00330742516950554), ProbabilisticTree('CC', ['and']) (p=0.6644591611479028), ProbabilisticTree('NNS', ['researchers']) (p=0.002149826360178601)]) (p=5.376969253861654e-09)]) (p=9.918512461344628e-10)]) (p=4.6849809976030027e-17)]) (p=1.661849196581127e-19)]) (p=2.643794733873964e-21)"
      ]
     },
     "execution_count": 5,
     "metadata": {},
     "output_type": "execute_result"
    }
   ],
   "source": [
    "sent = ['it', 'is', 'a', 'small', 'group', 'of', 'workers', 'and', 'researchers']\n",
    "parser = ViterbiParser(grammar)\n",
    "parse = parser.parse(sent)\n",
    "tree = next(parse)\n",
    "print(tree)\n",
    "tree"
   ]
  },
  {
   "cell_type": "markdown",
   "metadata": {},
   "source": [
    "## CoreNLP parser example:"
   ]
  },
  {
   "cell_type": "code",
   "execution_count": 6,
   "metadata": {},
   "outputs": [
    {
     "name": "stdout",
     "output_type": "stream",
     "text": [
      "(ROOT\n",
      "  (S\n",
      "    (NP (NNP Smith))\n",
      "    (VP (VBZ jumps) (PP (IN over) (NP (JJ lazy) (NNS dogs))))))\n"
     ]
    },
    {
     "data": {
      "image/png": "[encoded data removed]",
      "text/plain": [
       "Tree('ROOT', [Tree('S', [Tree('NP', [Tree('NNP', ['Smith'])]), Tree('VP', [Tree('VBZ', ['jumps']), Tree('PP', [Tree('IN', ['over']), Tree('NP', [Tree('JJ', ['lazy']), Tree('NNS', ['dogs'])])])])])])"
      ]
     },
     "execution_count": 6,
     "metadata": {},
     "output_type": "execute_result"
    }
   ],
   "source": [
    "# run in a shell:\n",
    "# java -mx4g -cp \"*\" edu.stanford.nlp.pipeline.StanfordCoreNLPServer -port 9000 -timeout 15000\n",
    "import nltk\n",
    "from nltk.parse.corenlp import CoreNLPParser\n",
    "parser = CoreNLPParser(url='http://localhost:9000')\n",
    "parse = parser.raw_parse('Smith jumps over lazy dogs')\n",
    "tree = next(parse)\n",
    "print(tree)\n",
    "tree"
   ]
  }
 ],
 "metadata": {
  "kernelspec": {
   "display_name": "Python 3",
   "language": "python",
   "name": "python3"
  },
  "language_info": {
   "codemirror_mode": {
    "name": "ipython",
    "version": 3
   },
   "file_extension": ".py",
   "mimetype": "text/x-python",
   "name": "python",
   "nbconvert_exporter": "python",
   "pygments_lexer": "ipython3",
   "version": "3.6.8"
  }
 },
 "nbformat": 4,
 "nbformat_minor": 2
}
