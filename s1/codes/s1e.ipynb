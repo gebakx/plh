{
  "nbformat": 4,
  "nbformat_minor": 0,
  "metadata": {
    "colab": {
      "name": "s1e.ipynb",
      "provenance": [],
      "collapsed_sections": []
    },
    "kernelspec": {
      "name": "python3",
      "display_name": "Python 3"
    },
    "language_info": {
      "name": "python"
    }
  },
  "cells": [
    {
      "cell_type": "markdown",
      "metadata": {
        "id": "P9pntxNhPLaT"
      },
      "source": [
        "## Web Text"
      ]
    },
    {
      "cell_type": "code",
      "metadata": {
        "id": "0nQinBiiOk61",
        "colab": {
          "base_uri": "https://localhost:8080/",
          "height": 35
        },
        "outputId": "c6608f61-b178-4120-8b1f-163fe49de9b3"
      },
      "source": [
        "import urllib.request\n",
        "\n",
        "url = 'http://www.gutenberg.org/cache/epub/35688/pg35688.txt'\n",
        "\n",
        "with urllib.request.urlopen(url) as response:\n",
        "   dt = response.read().decode('utf8')\n",
        "\n",
        "dt[1:55]"
      ],
      "execution_count": 1,
      "outputs": [
        {
          "output_type": "execute_result",
          "data": {
            "application/vnd.google.colaboratory.intrinsic+json": {
              "type": "string"
            },
            "text/plain": [
              "'The Project Gutenberg EBook of Alice in Wonderland, by'"
            ]
          },
          "metadata": {
            "tags": []
          },
          "execution_count": 1
        }
      ]
    }
  ]
}