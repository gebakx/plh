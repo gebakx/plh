{
  "nbformat": 4,
  "nbformat_minor": 0,
  "metadata": {
    "colab": {
      "name": "s1c.ipynb",
      "provenance": [],
      "collapsed_sections": []
    },
    "kernelspec": {
      "name": "python3",
      "display_name": "Python 3"
    },
    "language_info": {
      "name": "python"
    }
  },
  "cells": [
    {
      "cell_type": "markdown",
      "metadata": {
        "id": "O9Zb8xIJLLkQ"
      },
      "source": [
        "## Class Text"
      ]
    },
    {
      "cell_type": "code",
      "metadata": {
        "id": "LDkUDfiILKjR",
        "colab": {
          "base_uri": "https://localhost:8080/"
        },
        "outputId": "af2310f2-5208-4321-b905-91086108a97d"
      },
      "source": [
        "import nltk\n",
        "nltk.download('gutenberg')"
      ],
      "execution_count": 1,
      "outputs": [
        {
          "output_type": "stream",
          "text": [
            "[nltk_data] Downloading package gutenberg to /root/nltk_data...\n",
            "[nltk_data]   Unzipping corpora/gutenberg.zip.\n"
          ],
          "name": "stdout"
        },
        {
          "output_type": "execute_result",
          "data": {
            "text/plain": [
              "True"
            ]
          },
          "metadata": {
            "tags": []
          },
          "execution_count": 1
        }
      ]
    },
    {
      "cell_type": "code",
      "metadata": {
        "id": "veZ4BuXaLnWd"
      },
      "source": [
        "from nltk.corpus import gutenberg\n",
        "from nltk.text import Text\n",
        "crp = Text(gutenberg.words('blake-poems.txt'))"
      ],
      "execution_count": 2,
      "outputs": []
    },
    {
      "cell_type": "code",
      "metadata": {
        "colab": {
          "base_uri": "https://localhost:8080/"
        },
        "id": "iQuVbGZxLsFe",
        "outputId": "d9b22207-167a-49d5-bd44-13b9481cff1c"
      },
      "source": [
        "# counting words\n",
        "crp.count('love')"
      ],
      "execution_count": 3,
      "outputs": [
        {
          "output_type": "execute_result",
          "data": {
            "text/plain": [
              "15"
            ]
          },
          "metadata": {
            "tags": []
          },
          "execution_count": 3
        }
      ]
    },
    {
      "cell_type": "code",
      "metadata": {
        "colab": {
          "base_uri": "https://localhost:8080/"
        },
        "id": "LGbhxLSyLvkg",
        "outputId": "27cbcc25-2f9d-4150-e410-f9b47830936d"
      },
      "source": [
        "crp.count('Love')"
      ],
      "execution_count": 4,
      "outputs": [
        {
          "output_type": "execute_result",
          "data": {
            "text/plain": [
              "13"
            ]
          },
          "metadata": {
            "tags": []
          },
          "execution_count": 4
        }
      ]
    },
    {
      "cell_type": "code",
      "metadata": {
        "colab": {
          "base_uri": "https://localhost:8080/"
        },
        "id": "P7X5-UHcLyqy",
        "outputId": "9cc23503-6c8d-4baf-e75b-4db2f9417218"
      },
      "source": [
        "# consulting context in a corpus\n",
        "crp.concordance('love')"
      ],
      "execution_count": 5,
      "outputs": [
        {
          "output_type": "stream",
          "text": [
            "Displaying 25 of 29 matches:\n",
            "at we may learn to bear the beams of love And these black bodies and this sunb\n",
            "ing , ' Come out from the grove , my love and care And round my golden tent li\n",
            ", And be like him , and he will then love me . THE BLOSSOM Merry , merry sparr\n",
            " IMAGE To Mercy , Pity , Peace , and Love , All pray in their distress , And t\n",
            "ess . For Mercy , Pity , Peace , and Love , Is God our Father dear ; And Mercy\n",
            "ear ; And Mercy , Pity , Peace , and Love , Is man , his child and care . For \n",
            "uman heart Pity , a human face ; And Love , the human form divine ; And Peace \n",
            "s , Prays to the human form divine : Love , Mercy , Pity , Peace . And all mus\n",
            " Mercy , Pity , Peace . And all must love the human form , In heathen , Turk ,\n",
            "then , Turk , or Jew . Where Mercy , Love , and Pity dwell , There God is dwel\n",
            "sh , vain , Eternal bane , That free love with bondage bound .\" THE CLOD AND T\n",
            "e bound .\" THE CLOD AND THE PEBBLE \" Love seeketh not itself to please , Nor f\n",
            "ok Warbled out these metres meet : \" Love seeketh only Self to please , To bin\n",
            "Of crimson joy , And his dark secret love Does thy life destroy . THE FLY Litt\n",
            "horn : While the Lily white shall in love delight , Nor a thorn nor a threat s\n",
            "in her beauty bright . THE GARDEN OF LOVE I laid me down upon a bank , Where L\n",
            "E I laid me down upon a bank , Where Love lay sleeping ; I heard among the rus\n",
            "the chaste . I went to the Garden of Love , And saw what I never had seen ; A \n",
            " door ; So I turned to the Garden of Love That so many sweet flowers bore . An\n",
            "to know . \" And , father , how can I love you Or any of my brothers more ? I l\n",
            "e you Or any of my brothers more ? I love you like the little bird That picks \n",
            "nt page , Know that in a former time Love , sweet love , was thought a crime .\n",
            "w that in a former time Love , sweet love , was thought a crime . In the age o\n",
            " of my hoary hair !\" THE SCHOOLBOY I love to rise on a summer morn , When bird\n",
            "n Wisdom be put in a silver rod ? Or Love in a golden bowl ? THE BOOK of THEL \n"
          ],
          "name": "stdout"
        }
      ]
    },
    {
      "cell_type": "code",
      "metadata": {
        "colab": {
          "base_uri": "https://localhost:8080/"
        },
        "id": "c9RLyse3L1pl",
        "outputId": "6c3ae143-1b0a-40b7-a4eb-9ddaa9079a89"
      },
      "source": [
        "# words in the same context\n",
        "crp.similar('love')"
      ],
      "execution_count": 6,
      "outputs": [
        {
          "output_type": "stream",
          "text": [
            "youth went by innocence experience he laughing me joy all sight sweet\n",
            "peace thrush white away say joys round black\n"
          ],
          "name": "stdout"
        }
      ]
    },
    {
      "cell_type": "code",
      "metadata": {
        "colab": {
          "base_uri": "https://localhost:8080/"
        },
        "id": "CSz0mmnNL4n4",
        "outputId": "bbc83dca-d939-4392-eb7f-c9cc3ba108ec"
      },
      "source": [
        "# words in both context\n",
        "crp.common_contexts(['love', 'laugh'])"
      ],
      "execution_count": 7,
      "outputs": [
        {
          "output_type": "stream",
          "text": [
            "No common contexts were found\n"
          ],
          "name": "stdout"
        }
      ]
    },
    {
      "cell_type": "code",
      "metadata": {
        "colab": {
          "base_uri": "https://localhost:8080/",
          "height": 295
        },
        "id": "TMQgtT6uL8rQ",
        "outputId": "44d8c226-4157-4145-d02c-5e39dd78b6e4"
      },
      "source": [
        "# dispersion plot\n",
        "crp.dispersion_plot(['love','laugh'])"
      ],
      "execution_count": 8,
      "outputs": [
        {
          "output_type": "display_data",
          "data": {
            "image/png": "[encoded data removed]",
            "text/plain": [
              "<Figure size 432x288 with 1 Axes>"
            ]
          },
          "metadata": {
            "tags": [],
            "needs_background": "light"
          }
        }
      ]
    }
  ]
}