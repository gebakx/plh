{
  "nbformat": 4,
  "nbformat_minor": 0,
  "metadata": {
    "colab": {
      "name": "s1a.ipynb",
      "provenance": [],
      "collapsed_sections": []
    },
    "kernelspec": {
      "name": "python3",
      "display_name": "Python 3"
    },
    "language_info": {
      "name": "python"
    }
  },
  "cells": [
    {
      "cell_type": "markdown",
      "metadata": {
        "id": "hWJt8OphEZCN"
      },
      "source": [
        "## Corpus Reader"
      ]
    },
    {
      "cell_type": "code",
      "metadata": {
        "id": "4cecct04EUsB"
      },
      "source": [
        "import nltk"
      ],
      "execution_count": 1,
      "outputs": []
    },
    {
      "cell_type": "code",
      "metadata": {
        "colab": {
          "base_uri": "https://localhost:8080/"
        },
        "id": "L4ZuwU7AEtX7",
        "outputId": "510b486b-5a31-4a55-cfc8-03d4183b5d6e"
      },
      "source": [
        "# Requirement\n",
        "nltk.download('gutenberg')"
      ],
      "execution_count": 2,
      "outputs": [
        {
          "output_type": "stream",
          "text": [
            "[nltk_data] Downloading package gutenberg to /root/nltk_data...\n",
            "[nltk_data]   Package gutenberg is already up-to-date!\n"
          ],
          "name": "stdout"
        },
        {
          "output_type": "execute_result",
          "data": {
            "text/plain": [
              "True"
            ]
          },
          "metadata": {
            "tags": []
          },
          "execution_count": 2
        }
      ]
    },
    {
      "cell_type": "code",
      "metadata": {
        "colab": {
          "base_uri": "https://localhost:8080/"
        },
        "id": "HT4ySYQbElEX",
        "outputId": "c3b22c49-15d8-427e-d23a-79fd8360714c"
      },
      "source": [
        "# list of files\n",
        "nltk.corpus.gutenberg.fileids()"
      ],
      "execution_count": 3,
      "outputs": [
        {
          "output_type": "execute_result",
          "data": {
            "text/plain": [
              "['austen-emma.txt',\n",
              " 'austen-persuasion.txt',\n",
              " 'austen-sense.txt',\n",
              " 'bible-kjv.txt',\n",
              " 'blake-poems.txt',\n",
              " 'bryant-stories.txt',\n",
              " 'burgess-busterbrown.txt',\n",
              " 'carroll-alice.txt',\n",
              " 'chesterton-ball.txt',\n",
              " 'chesterton-brown.txt',\n",
              " 'chesterton-thursday.txt',\n",
              " 'edgeworth-parents.txt',\n",
              " 'melville-moby_dick.txt',\n",
              " 'milton-paradise.txt',\n",
              " 'shakespeare-caesar.txt',\n",
              " 'shakespeare-hamlet.txt',\n",
              " 'shakespeare-macbeth.txt',\n",
              " 'whitman-leaves.txt']"
            ]
          },
          "metadata": {
            "tags": []
          },
          "execution_count": 3
        }
      ]
    },
    {
      "cell_type": "code",
      "metadata": {
        "colab": {
          "base_uri": "https://localhost:8080/"
        },
        "id": "5LUiPplCFFFZ",
        "outputId": "f453397f-b72c-4e3e-cdf5-649ed3c3c7de"
      },
      "source": [
        "# load a file\n",
        "cp = nltk.corpus.gutenberg.words('blake-poems.txt')\n",
        "len(cp) # length"
      ],
      "execution_count": 4,
      "outputs": [
        {
          "output_type": "execute_result",
          "data": {
            "text/plain": [
              "8354"
            ]
          },
          "metadata": {
            "tags": []
          },
          "execution_count": 4
        }
      ]
    },
    {
      "cell_type": "code",
      "metadata": {
        "colab": {
          "base_uri": "https://localhost:8080/"
        },
        "id": "ojFef9AXFLBb",
        "outputId": "d99a7d08-77bd-4e5c-adb2-1cb70414d484"
      },
      "source": [
        "cp[100:108] # subset"
      ],
      "execution_count": 5,
      "outputs": [
        {
          "output_type": "execute_result",
          "data": {
            "text/plain": [
              "['the', 'same', 'again', ',', 'While', 'he', 'wept', 'with']"
            ]
          },
          "metadata": {
            "tags": []
          },
          "execution_count": 5
        }
      ]
    },
    {
      "cell_type": "code",
      "metadata": {
        "colab": {
          "base_uri": "https://localhost:8080/"
        },
        "id": "XdN0UilxFRVV",
        "outputId": "4938cbd3-cbf3-4c26-a258-191950aaf0e9"
      },
      "source": [
        "len(set(cp)) # set"
      ],
      "execution_count": 6,
      "outputs": [
        {
          "output_type": "execute_result",
          "data": {
            "text/plain": [
              "1820"
            ]
          },
          "metadata": {
            "tags": []
          },
          "execution_count": 6
        }
      ]
    },
    {
      "cell_type": "code",
      "metadata": {
        "colab": {
          "base_uri": "https://localhost:8080/"
        },
        "id": "geQ9l3OjFYX6",
        "outputId": "ce58f9b2-43eb-4b1f-ff38-2f1c210112ca"
      },
      "source": [
        "# list of words with more than 2 chars\n",
        "lst = [w for w in cp if len(w)>2]\n",
        "lst[:30]"
      ],
      "execution_count": 7,
      "outputs": [
        {
          "output_type": "execute_result",
          "data": {
            "text/plain": [
              "['Poems',\n",
              " 'William',\n",
              " 'Blake',\n",
              " '1789',\n",
              " 'SONGS',\n",
              " 'INNOCENCE',\n",
              " 'AND',\n",
              " 'EXPERIENCE',\n",
              " 'and',\n",
              " 'THE',\n",
              " 'BOOK',\n",
              " 'THEL',\n",
              " 'SONGS',\n",
              " 'INNOCENCE',\n",
              " 'INTRODUCTION',\n",
              " 'Piping',\n",
              " 'down',\n",
              " 'the',\n",
              " 'valleys',\n",
              " 'wild',\n",
              " 'Piping',\n",
              " 'songs',\n",
              " 'pleasant',\n",
              " 'glee',\n",
              " 'cloud',\n",
              " 'saw',\n",
              " 'child',\n",
              " 'And',\n",
              " 'laughing',\n",
              " 'said']"
            ]
          },
          "metadata": {
            "tags": []
          },
          "execution_count": 7
        }
      ]
    },
    {
      "cell_type": "code",
      "metadata": {
        "colab": {
          "base_uri": "https://localhost:8080/"
        },
        "id": "IuLFyznCFaz6",
        "outputId": "917eb455-a0f5-452b-f559-34e7dd3acf36"
      },
      "source": [
        "# tuples with words lowered and length\n",
        "tup = [(w.lower(), len(w)) for w in lst]\n",
        "sorted(tup)[:6]"
      ],
      "execution_count": 8,
      "outputs": [
        {
          "output_type": "execute_result",
          "data": {
            "text/plain": [
              "[('!\"--', 4), ('\\',\"', 3), (',--', 3), ('1780', 4), ('1789', 4), (':!\"', 3)]"
            ]
          },
          "metadata": {
            "tags": []
          },
          "execution_count": 8
        }
      ]
    },
    {
      "cell_type": "code",
      "metadata": {
        "id": "F6X0AFPwFfXN",
        "colab": {
          "base_uri": "https://localhost:8080/"
        },
        "outputId": "3f85dd21-952d-4c02-a732-62e705c5146a"
      },
      "source": [
        "# frequencies of words\n",
        "freqs = {w:lst.count(w) for w in set(lst)}\n",
        "kmax = max(freqs, key=lambda k: freqs[k])\n",
        "kmax, freqs[kmax]"
      ],
      "execution_count": 9,
      "outputs": [
        {
          "output_type": "execute_result",
          "data": {
            "text/plain": [
              "('the', 351)"
            ]
          },
          "metadata": {
            "tags": []
          },
          "execution_count": 9
        }
      ]
    }
  ]
}