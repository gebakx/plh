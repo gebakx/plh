{
  "nbformat": 4,
  "nbformat_minor": 0,
  "metadata": {
    "colab": {
      "name": "s7b.ipynb",
      "provenance": []
    },
    "kernelspec": {
      "name": "python3",
      "display_name": "Python 3"
    },
    "language_info": {
      "name": "python"
    }
  },
  "cells": [
    {
      "cell_type": "markdown",
      "metadata": {
        "id": "2Z0hH_iVfj5-"
      },
      "source": [
        "## Spacy\n",
        "https://spacy.io/"
      ]
    },
    {
      "cell_type": "code",
      "metadata": {
        "id": "Ze8T5TGAffNr"
      },
      "source": [
        "import spacy\n",
        "nlp = spacy.load(\"en_core_web_sm\")"
      ],
      "execution_count": null,
      "outputs": []
    },
    {
      "cell_type": "code",
      "metadata": {
        "id": "aPK9hb9qfteR"
      },
      "source": [
        "sentence = \"Mark Pedersen is working at Google since 1994.\"\n",
        "doc = nlp(sentence)"
      ],
      "execution_count": null,
      "outputs": []
    },
    {
      "cell_type": "code",
      "metadata": {
        "colab": {
          "base_uri": "https://localhost:8080/"
        },
        "id": "3UXBywx3f86W",
        "outputId": "c5b3fde0-1ebf-4213-cc4d-cc76fbe1e62f"
      },
      "source": [
        "[(token.text, token.pos_, token.tag_, token.lemma_, token.is_stop, \n",
        "  token.ent_iob_, token.ent_type_) for token in doc]"
      ],
      "execution_count": null,
      "outputs": [
        {
          "output_type": "execute_result",
          "data": {
            "text/plain": [
              "[('Mark', 'PROPN', 'NNP', 'Mark', False, 'B', 'PERSON'),\n",
              " ('Pedersen', 'PROPN', 'NNP', 'Pedersen', False, 'I', 'PERSON'),\n",
              " ('is', 'AUX', 'VBZ', 'be', True, 'O', ''),\n",
              " ('working', 'VERB', 'VBG', 'work', False, 'O', ''),\n",
              " ('at', 'ADP', 'IN', 'at', True, 'O', ''),\n",
              " ('Google', 'PROPN', 'NNP', 'Google', False, 'B', 'ORG'),\n",
              " ('since', 'SCONJ', 'IN', 'since', True, 'O', ''),\n",
              " ('1994', 'NUM', 'CD', '1994', False, 'B', 'DATE'),\n",
              " ('.', 'PUNCT', '.', '.', False, 'O', '')]"
            ]
          },
          "metadata": {
            "tags": []
          },
          "execution_count": 5
        }
      ]
    },
    {
      "cell_type": "code",
      "metadata": {
        "id": "X5QU8HmfgOk1"
      },
      "source": [
        "sentence = \"Mark Pedersen and John Smith are working at Google since 1994 for $1000 per week.\"\n",
        "doc = nlp(sentence)"
      ],
      "execution_count": null,
      "outputs": []
    },
    {
      "cell_type": "code",
      "metadata": {
        "colab": {
          "base_uri": "https://localhost:8080/"
        },
        "id": "fGifeCCLgV2u",
        "outputId": "01d2a7a4-9007-4896-f1d8-2470937b3b3e"
      },
      "source": [
        "[(ent.text, ent.label_) for ent in doc.ents]"
      ],
      "execution_count": null,
      "outputs": [
        {
          "output_type": "execute_result",
          "data": {
            "text/plain": [
              "[('Mark Pedersen', 'PERSON'),\n",
              " ('John Smith', 'PERSON'),\n",
              " ('Google', 'ORG'),\n",
              " ('1994', 'DATE'),\n",
              " ('1000', 'MONEY')]"
            ]
          },
          "metadata": {
            "tags": []
          },
          "execution_count": 7
        }
      ]
    },
    {
      "cell_type": "code",
      "metadata": {
        "colab": {
          "base_uri": "https://localhost:8080/",
          "height": 52
        },
        "id": "UUYfEGI_gY5U",
        "outputId": "4d9e5f77-dc4b-421b-dfc2-e4ddd3f74a9a"
      },
      "source": [
        "spacy.displacy.render(doc, jupyter = True, style='ent')"
      ],
      "execution_count": null,
      "outputs": [
        {
          "output_type": "display_data",
          "data": {
            "text/html": [
              "<span class=\"tex2jax_ignore\"><div class=\"entities\" style=\"line-height: 2.5; direction: ltr\">\n",
              "<mark class=\"entity\" style=\"background: #aa9cfc; padding: 0.45em 0.6em; margin: 0 0.25em; line-height: 1; border-radius: 0.35em;\">\n",
              "    Mark Pedersen\n",
              "    <span style=\"font-size: 0.8em; font-weight: bold; line-height: 1; border-radius: 0.35em; text-transform: uppercase; vertical-align: middle; margin-left: 0.5rem\">PERSON</span>\n",
              "</mark>\n",
              " and \n",
              "<mark class=\"entity\" style=\"background: #aa9cfc; padding: 0.45em 0.6em; margin: 0 0.25em; line-height: 1; border-radius: 0.35em;\">\n",
              "    John Smith\n",
              "    <span style=\"font-size: 0.8em; font-weight: bold; line-height: 1; border-radius: 0.35em; text-transform: uppercase; vertical-align: middle; margin-left: 0.5rem\">PERSON</span>\n",
              "</mark>\n",
              " are working at \n",
              "<mark class=\"entity\" style=\"background: #7aecec; padding: 0.45em 0.6em; margin: 0 0.25em; line-height: 1; border-radius: 0.35em;\">\n",
              "    Google\n",
              "    <span style=\"font-size: 0.8em; font-weight: bold; line-height: 1; border-radius: 0.35em; text-transform: uppercase; vertical-align: middle; margin-left: 0.5rem\">ORG</span>\n",
              "</mark>\n",
              " since \n",
              "<mark class=\"entity\" style=\"background: #bfe1d9; padding: 0.45em 0.6em; margin: 0 0.25em; line-height: 1; border-radius: 0.35em;\">\n",
              "    1994\n",
              "    <span style=\"font-size: 0.8em; font-weight: bold; line-height: 1; border-radius: 0.35em; text-transform: uppercase; vertical-align: middle; margin-left: 0.5rem\">DATE</span>\n",
              "</mark>\n",
              " for $\n",
              "<mark class=\"entity\" style=\"background: #e4e7d2; padding: 0.45em 0.6em; margin: 0 0.25em; line-height: 1; border-radius: 0.35em;\">\n",
              "    1000\n",
              "    <span style=\"font-size: 0.8em; font-weight: bold; line-height: 1; border-radius: 0.35em; text-transform: uppercase; vertical-align: middle; margin-left: 0.5rem\">MONEY</span>\n",
              "</mark>\n",
              " per week.</div></span>"
            ],
            "text/plain": [
              "<IPython.core.display.HTML object>"
            ]
          },
          "metadata": {
            "tags": []
          }
        }
      ]
    },
    {
      "cell_type": "code",
      "metadata": {
        "id": "AMvb4PCYgiyM"
      },
      "source": [
        "with doc.retokenize() as retokenizer:\n",
        "    tokens = [token for token in doc]\n",
        "    for ent in doc.ents:\n",
        "        retokenizer.merge(doc[ent.start:ent.end], \n",
        "                          attrs={\"LEMMA\": \" \".join([tokens[i].text for i in range(ent.start, ent.end)])})"
      ],
      "execution_count": null,
      "outputs": []
    },
    {
      "cell_type": "code",
      "metadata": {
        "id": "3ldvfiNhglVq",
        "colab": {
          "base_uri": "https://localhost:8080/"
        },
        "outputId": "df0379fe-6dc0-4180-e543-bd04418824f1"
      },
      "source": [
        "[(token.text, token.pos_, token.tag_, token.lemma_, token.is_stop, \n",
        "  token.ent_iob_, token.ent_type_) for token in doc]"
      ],
      "execution_count": null,
      "outputs": [
        {
          "output_type": "execute_result",
          "data": {
            "text/plain": [
              "[('Mark Pedersen', 'PROPN', 'NNP', 'Mark Pedersen', False, 'B', 'PERSON'),\n",
              " ('and', 'CCONJ', 'CC', 'and', True, 'O', ''),\n",
              " ('John Smith', 'PROPN', 'NNP', 'John Smith', False, 'B', 'PERSON'),\n",
              " ('are', 'AUX', 'VBP', 'be', True, 'O', ''),\n",
              " ('working', 'VERB', 'VBG', 'work', False, 'O', ''),\n",
              " ('at', 'ADP', 'IN', 'at', True, 'O', ''),\n",
              " ('Google', 'PROPN', 'NNP', 'Google', False, 'B', 'ORG'),\n",
              " ('since', 'SCONJ', 'IN', 'since', True, 'O', ''),\n",
              " ('1994', 'NUM', 'CD', '1994', False, 'B', 'DATE'),\n",
              " ('for', 'ADP', 'IN', 'for', True, 'O', ''),\n",
              " ('$', 'SYM', '$', '$', False, 'O', ''),\n",
              " ('1000', 'NUM', 'CD', '1000', False, 'B', 'MONEY'),\n",
              " ('per', 'ADP', 'IN', 'per', True, 'O', ''),\n",
              " ('week', 'NOUN', 'NN', 'week', False, 'O', ''),\n",
              " ('.', 'PUNCT', '.', '.', False, 'O', '')]"
            ]
          },
          "metadata": {
            "tags": []
          },
          "execution_count": 10
        }
      ]
    }
  ]
}