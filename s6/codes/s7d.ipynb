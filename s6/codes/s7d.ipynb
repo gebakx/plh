{
  "nbformat": 4,
  "nbformat_minor": 0,
  "metadata": {
    "colab": {
      "name": "s7d.ipynb",
      "provenance": []
    },
    "kernelspec": {
      "name": "python3",
      "display_name": "Python 3"
    },
    "language_info": {
      "name": "python"
    }
  },
  "cells": [
    {
      "cell_type": "markdown",
      "metadata": {
        "id": "lxKe388qiWSs"
      },
      "source": [
        "## Regexp Chunker"
      ]
    },
    {
      "cell_type": "code",
      "metadata": {
        "id": "-tX8ohGkh5tP"
      },
      "source": [
        "import nltk\n",
        "\n",
        "sentence = [(\"the\", \"DT\"), (\"little\", \"JJ\"), (\"yellow\", \"JJ\"),(\"dog\", \"NN\"),\\\n",
        "            (\"barked\", \"VBD\"), (\"at\", \"IN\"), (\"the\", \"DT\"), (\"cat\", \"NN\")]\n",
        "\n",
        "grammar = \"NP: {<DT>?<JJ>*<NN>}\"\n",
        "\n",
        "cp = nltk.RegexpParser(grammar)"
      ],
      "execution_count": null,
      "outputs": []
    },
    {
      "cell_type": "markdown",
      "metadata": {
        "id": "GLRKxNYViAoV"
      },
      "source": [
        "## Conll2000 corpus"
      ]
    },
    {
      "cell_type": "code",
      "metadata": {
        "colab": {
          "base_uri": "https://localhost:8080/"
        },
        "id": "iMtKw-Gfip-N",
        "outputId": "e64277c1-c29d-459f-84ab-2a6a90467a78"
      },
      "source": [
        "nltk.download('conll2000')"
      ],
      "execution_count": null,
      "outputs": [
        {
          "output_type": "stream",
          "text": [
            "[nltk_data] Downloading package conll2000 to /root/nltk_data...\n",
            "[nltk_data]   Unzipping corpora/conll2000.zip.\n"
          ],
          "name": "stdout"
        },
        {
          "output_type": "execute_result",
          "data": {
            "text/plain": [
              "True"
            ]
          },
          "metadata": {
            "tags": []
          },
          "execution_count": 2
        }
      ]
    },
    {
      "cell_type": "markdown",
      "metadata": {
        "id": "deab7E2Bi1zP"
      },
      "source": [
        "### Evaluation"
      ]
    },
    {
      "cell_type": "code",
      "metadata": {
        "colab": {
          "base_uri": "https://localhost:8080/"
        },
        "id": "l30zCqhuicDO",
        "outputId": "49166c54-0504-440f-e7b3-6ae0664005e2"
      },
      "source": [
        "from nltk.corpus import conll2000\n",
        "test_sents = conll2000.chunked_sents('test.txt', chunk_types=['NP'])\n",
        "print(cp.evaluate(test_sents))"
      ],
      "execution_count": null,
      "outputs": [
        {
          "output_type": "stream",
          "text": [
            "ChunkParse score:\n",
            "    IOB Accuracy:  59.7%%\n",
            "    Precision:     45.3%%\n",
            "    Recall:        24.2%%\n",
            "    F-Measure:     31.6%%\n"
          ],
          "name": "stdout"
        }
      ]
    },
    {
      "cell_type": "markdown",
      "metadata": {
        "id": "I7_kx0nMjDUJ"
      },
      "source": [
        "### Showing Sentences"
      ]
    },
    {
      "cell_type": "code",
      "metadata": {
        "colab": {
          "base_uri": "https://localhost:8080/"
        },
        "id": "6xNkWK8NjF_K",
        "outputId": "5354416d-b4b6-4a1e-dd77-ada95ac17a9c"
      },
      "source": [
        "sentence = conll2000.chunked_sents('train.txt', chunk_types=['NP'])[99]\n",
        "print(sentence)"
      ],
      "execution_count": null,
      "outputs": [
        {
          "output_type": "stream",
          "text": [
            "(S\n",
            "  Over/IN\n",
            "  (NP a/DT cup/NN)\n",
            "  of/IN\n",
            "  (NP coffee/NN)\n",
            "  ,/,\n",
            "  (NP Mr./NNP Stone/NNP)\n",
            "  told/VBD\n",
            "  (NP his/PRP$ story/NN)\n",
            "  ./.)\n"
          ],
          "name": "stdout"
        }
      ]
    },
    {
      "cell_type": "markdown",
      "metadata": {
        "id": "XFm4Tq-MjIjX"
      },
      "source": [
        "## IOB Format"
      ]
    },
    {
      "cell_type": "code",
      "metadata": {
        "colab": {
          "base_uri": "https://localhost:8080/"
        },
        "id": "uvExIPGQjLb-",
        "outputId": "b93984cb-6431-45a6-b746-24e455d85d7f"
      },
      "source": [
        "from nltk import tree2conlltags\n",
        "tree2conlltags(sentence)"
      ],
      "execution_count": null,
      "outputs": [
        {
          "output_type": "execute_result",
          "data": {
            "text/plain": [
              "[('Over', 'IN', 'O'),\n",
              " ('a', 'DT', 'B-NP'),\n",
              " ('cup', 'NN', 'I-NP'),\n",
              " ('of', 'IN', 'O'),\n",
              " ('coffee', 'NN', 'B-NP'),\n",
              " (',', ',', 'O'),\n",
              " ('Mr.', 'NNP', 'B-NP'),\n",
              " ('Stone', 'NNP', 'I-NP'),\n",
              " ('told', 'VBD', 'O'),\n",
              " ('his', 'PRP$', 'B-NP'),\n",
              " ('story', 'NN', 'I-NP'),\n",
              " ('.', '.', 'O')]"
            ]
          },
          "metadata": {
            "tags": []
          },
          "execution_count": 5
        }
      ]
    }
  ]
}