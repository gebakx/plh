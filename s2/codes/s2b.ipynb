{
  "nbformat": 4,
  "nbformat_minor": 0,
  "metadata": {
    "colab": {
      "name": "s2b.ipynb",
      "provenance": []
    },
    "kernelspec": {
      "name": "python3",
      "display_name": "Python 3"
    },
    "language_info": {
      "name": "python"
    }
  },
  "cells": [
    {
      "cell_type": "markdown",
      "metadata": {
        "id": "wwbbvcUke6FL"
      },
      "source": [
        "## SAX Example"
      ]
    },
    {
      "cell_type": "code",
      "metadata": {
        "id": "YeH8FhhAe06q"
      },
      "source": [
        "import xml.sax\n",
        "\n",
        "class ChgHandler(xml.sax.ContentHandler):\n",
        "    cnt = 1\n",
        "    mn = (1.0, 'EUR')\n",
        "    \n",
        "    def startElement(self, name, attrs):\n",
        "        if name == \"Cube\":\n",
        "            if 'rate' in attrs.keys():\n",
        "                # print(attrs.getValue('currency'), attrs.getValue('rate'))\n",
        "                ChgHandler.cnt += 1\n",
        "                ChgHandler.mn = min(ChgHandler.mn,\n",
        "                                    (float(attrs.getValue('rate')),\n",
        "                                     attrs.getValue('currency'))) "
      ],
      "execution_count": 1,
      "outputs": []
    },
    {
      "cell_type": "code",
      "metadata": {
        "id": "_mj6CcLJe-dT",
        "outputId": "4c222545-c96e-4a5f-97c8-b82e25929fd5",
        "colab": {
          "base_uri": "https://localhost:8080/"
        }
      },
      "source": [
        "url = 'http://www.ecb.europa.eu/stats/eurofxref/eurofxref-daily.xml'\n",
        "\n",
        "parser = xml.sax.make_parser()\n",
        "parser.setContentHandler(ChgHandler())\n",
        "parser.parse(url)\n",
        "\n",
        "ChgHandler.mn"
      ],
      "execution_count": 2,
      "outputs": [
        {
          "output_type": "execute_result",
          "data": {
            "text/plain": [
              "(0.86408, 'GBP')"
            ]
          },
          "metadata": {
            "tags": []
          },
          "execution_count": 2
        }
      ]
    }
  ]
}