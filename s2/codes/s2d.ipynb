{
  "nbformat": 4,
  "nbformat_minor": 0,
  "metadata": {
    "colab": {
      "name": "s2d.ipynb",
      "provenance": []
    },
    "kernelspec": {
      "name": "python3",
      "display_name": "Python 3"
    },
    "language_info": {
      "name": "python"
    }
  },
  "cells": [
    {
      "cell_type": "markdown",
      "metadata": {
        "id": "QnYX1S9ci3e1"
      },
      "source": [
        "## Jaccard distance example"
      ]
    },
    {
      "cell_type": "code",
      "metadata": {
        "colab": {
          "base_uri": "https://localhost:8080/"
        },
        "id": "Lmqtxt6_iyQz",
        "outputId": "792cb9bd-23c0-4d98-b33c-91baa1886246"
      },
      "source": [
        "from nltk.metrics import jaccard_distance\n",
        "jaccard_distance(set(['The','eats','fish','.']),\n",
        "                 set(['The','eats','blue','fish','.']))"
      ],
      "execution_count": 1,
      "outputs": [
        {
          "output_type": "execute_result",
          "data": {
            "text/plain": [
              "0.2"
            ]
          },
          "metadata": {
            "tags": []
          },
          "execution_count": 1
        }
      ]
    }
  ]
}